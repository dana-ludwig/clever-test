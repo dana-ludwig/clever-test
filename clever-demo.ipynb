{
 "cells": [
  {
   "cell_type": "code",
   "execution_count": 4,
   "metadata": {},
   "outputs": [],
   "source": [
    "!python2 /share/pi/stamang/cie/clever-demo/tagger/tagger.py --lexicon /share/pi/stamang/cie/clever-demo/res/termN2C2.txt --section-headers /share/pi/stamang/cie/clever-demo/res/headers.txt --main-targets ALCOHOL-ABUSE --snippet-length 125 --snippets --notes /share/pi/stamang/cie/clever-demo/notes/testnotes_formatted.txt --workers 4 --output /share/pi/stamang/cie/clever-demo/output/ants/ALCOHOL-ABUSE --left-gram-context 3 --right-gram-context 2"
   ]
  },
  {
   "cell_type": "code",
   "execution_count": 5,
   "metadata": {},
   "outputs": [
    {
     "name": "stdout",
     "output_type": "stream",
     "text": [
      "total 108\n",
      "drwxrws--- 2 tpod    stamang-nlp  4096 Jun  4 02:33 .\n",
      "drwxrwsr-x 3 stamang stamang-nlp  4096 Jun  4 02:33 ..\n",
      "-rw-rw---- 1 tpod    stamang-nlp   636 Jun  4 02:33 context-left-1539.tsv\n",
      "-rw-rw---- 1 tpod    stamang-nlp   510 Jun  4 02:33 context-left-1540.tsv\n",
      "-rw-rw---- 1 tpod    stamang-nlp   243 Jun  4 02:33 context-left-1541.tsv\n",
      "-rw-rw---- 1 tpod    stamang-nlp   214 Jun  4 02:33 context-left-1542.tsv\n",
      "-rw-rw---- 1 tpod    stamang-nlp  2024 Jun  4 02:33 context-left-stats.tsv\n",
      "-rw-rw---- 1 tpod    stamang-nlp   341 Jun  4 02:33 context-right-1539.tsv\n",
      "-rw-rw---- 1 tpod    stamang-nlp   266 Jun  4 02:33 context-right-1540.tsv\n",
      "-rw-rw---- 1 tpod    stamang-nlp   162 Jun  4 02:33 context-right-1541.tsv\n",
      "-rw-rw---- 1 tpod    stamang-nlp    68 Jun  4 02:33 context-right-1542.tsv\n",
      "-rw-rw---- 1 tpod    stamang-nlp  1281 Jun  4 02:33 context-right-stats.tsv\n",
      "-rw-rw---- 1 tpod    stamang-nlp  8375 Jun  4 02:33 discover-1539.tsv\n",
      "-rw-rw---- 1 tpod    stamang-nlp  6235 Jun  4 02:33 discover-1540.tsv\n",
      "-rw-rw---- 1 tpod    stamang-nlp  3945 Jun  4 02:33 discover-1541.tsv\n",
      "-rw-rw---- 1 tpod    stamang-nlp   920 Jun  4 02:33 discover-1542.tsv\n",
      "-rw-rw---- 1 tpod    stamang-nlp 10649 Jun  4 02:33 extraction-1539.tsv\n",
      "-rw-rw---- 1 tpod    stamang-nlp  8183 Jun  4 02:33 extraction-1540.tsv\n",
      "-rw-rw---- 1 tpod    stamang-nlp  5411 Jun  4 02:33 extraction-1541.tsv\n",
      "-rw-rw---- 1 tpod    stamang-nlp  1204 Jun  4 02:33 extraction-1542.tsv\n"
     ]
    }
   ],
   "source": [
    "!ls -al /share/pi/stamang/cie/clever-demo/output/ants/ALCOHOL-ABUSE"
   ]
  },
  {
   "cell_type": "code",
   "execution_count": 6,
   "metadata": {},
   "outputs": [
    {
     "name": "stdout",
     "output_type": "stream",
     "text": [
      "   28 /share/pi/stamang/cie/clever-demo/etoh/ants/ALCOHOL-ABUSE/extraction-1539.tsv\n",
      "   21 /share/pi/stamang/cie/clever-demo/etoh/ants/ALCOHOL-ABUSE/extraction-1540.tsv\n",
      "   13 /share/pi/stamang/cie/clever-demo/etoh/ants/ALCOHOL-ABUSE/extraction-1541.tsv\n",
      "    3 /share/pi/stamang/cie/clever-demo/etoh/ants/ALCOHOL-ABUSE/extraction-1542.tsv\n",
      "   65 total\n"
     ]
    }
   ],
   "source": [
    "!wc -l /share/pi/stamang/cie/clever-demo/etoh/ants/ALCOHOL-ABUSE/extraction-*"
   ]
  },
  {
   "cell_type": "code",
   "execution_count": 7,
   "metadata": {},
   "outputs": [
    {
     "name": "stdout",
     "output_type": "stream",
     "text": [
      "/share/pi/stamang/cie/clever-demo/res/termN2C2.txt\n",
      "Total notes:  29434\n",
      "Loading:  /share/pi/stamang/cie/clever-demo/etoh/ants/ALCOHOL-ABUSE/extraction-1542.tsv\n",
      "Loading:  /share/pi/stamang/cie/clever-demo/etoh/ants/ALCOHOL-ABUSE/extraction-1539.tsv\n",
      "Loading:  /share/pi/stamang/cie/clever-demo/etoh/ants/ALCOHOL-ABUSE/extraction-1540.tsv\n",
      "Loading:  /share/pi/stamang/cie/clever-demo/etoh/ants/ALCOHOL-ABUSE/extraction-1541.tsv\n",
      "65 total annotation for target terms in ALCOHOL-ABUSE\n",
      "65\n",
      "aggregating patient level annotation output...\n",
      "fini!\n"
     ]
    }
   ],
   "source": [
    "!python2 /share/pi/stamang/cie/clever-demo/ptsequencer/patientSequencer.py"
   ]
  },
  {
   "cell_type": "code",
   "execution_count": 8,
   "metadata": {},
   "outputs": [
    {
     "name": "stdout",
     "output_type": "stream",
     "text": [
      "total 152\n",
      "drwxrwsr-x 2 stamang stamang-nlp 4096 Jun  4 02:33 .\n",
      "drwxrwsr-x 5 stamang stamang-nlp 4096 Jun  4 02:06 ..\n",
      "-rw-rw---- 1 tpod    stamang-nlp  515 Jun  4 02:33 pt117.txt\n",
      "-rw-rw---- 1 tpod    stamang-nlp  608 Jun  4 02:33 pt140.txt\n",
      "-rw-rw---- 1 tpod    stamang-nlp  776 Jun  4 02:33 pt143.txt\n",
      "-rw-rw---- 1 tpod    stamang-nlp  704 Jun  4 02:33 pt144.txt\n",
      "-rw-rw---- 1 tpod    stamang-nlp  834 Jun  4 02:33 pt145.txt\n",
      "-rw-rw---- 1 tpod    stamang-nlp  680 Jun  4 02:33 pt15.txt\n",
      "-rw-rw---- 1 tpod    stamang-nlp  474 Jun  4 02:33 pt165.txt\n",
      "-rw-rw---- 1 tpod    stamang-nlp 1173 Jun  4 02:33 pt172.txt\n",
      "-rw-rw---- 1 tpod    stamang-nlp 4105 Jun  4 02:33 pt252.txt\n",
      "-rw-rw---- 1 tpod    stamang-nlp  550 Jun  4 02:33 pt282.txt\n",
      "-rw-rw---- 1 tpod    stamang-nlp  731 Jun  4 02:33 pt324.txt\n",
      "-rw-rw---- 1 tpod    stamang-nlp  483 Jun  4 02:33 pt32.txt\n",
      "-rw-rw---- 1 tpod    stamang-nlp  627 Jun  4 02:33 pt357.txt\n",
      "-rw-rw---- 1 tpod    stamang-nlp  666 Jun  4 02:33 pt413.txt\n",
      "-rw-rw---- 1 tpod    stamang-nlp 1470 Jun  4 02:33 pt424.txt\n",
      "-rw-rw---- 1 tpod    stamang-nlp  721 Jun  4 02:33 pt446.txt\n",
      "-rw-rw---- 1 tpod    stamang-nlp 1396 Jun  4 02:33 pt479.txt\n",
      "-rw-rw---- 1 tpod    stamang-nlp 2679 Jun  4 02:33 pt481.txt\n",
      "-rw-rw---- 1 tpod    stamang-nlp  782 Jun  4 02:33 pt492.txt\n",
      "-rw-rw---- 1 tpod    stamang-nlp  592 Jun  4 02:33 pt493.txt\n",
      "-rw-rw---- 1 tpod    stamang-nlp  581 Jun  4 02:33 pt510.txt\n",
      "-rw-rw---- 1 tpod    stamang-nlp  597 Jun  4 02:33 pt517.txt\n",
      "-rw-rw---- 1 tpod    stamang-nlp 2387 Jun  4 02:33 pt52.txt\n",
      "-rw-rw---- 1 tpod    stamang-nlp 2356 Jun  4 02:33 pt540.txt\n",
      "-rw-rw---- 1 tpod    stamang-nlp 2905 Jun  4 02:33 pt553.txt\n",
      "-rw-rw---- 1 tpod    stamang-nlp 6355 Jun  4 02:33 pt590.txt\n",
      "-rw-rw---- 1 tpod    stamang-nlp  633 Jun  4 02:33 pt622.txt\n",
      "-rw-rw---- 1 tpod    stamang-nlp  772 Jun  4 02:33 pt64.txt\n",
      "-rw-rw---- 1 tpod    stamang-nlp  677 Jun  4 02:33 pt654.txt\n",
      "-rw-rw---- 1 tpod    stamang-nlp  470 Jun  4 02:33 pt657.txt\n",
      "-rw-rw---- 1 tpod    stamang-nlp  555 Jun  4 02:33 pt658.txt\n",
      "-rw-rw---- 1 tpod    stamang-nlp  793 Jun  4 02:33 pt674.txt\n",
      "-rw-rw---- 1 tpod    stamang-nlp  500 Jun  4 02:33 pt680.txt\n",
      "-rw-rw---- 1 tpod    stamang-nlp  822 Jun  4 02:33 pt720.txt\n"
     ]
    }
   ],
   "source": [
    "!ls -al /share/pi/stamang/cie/clever-demo/etoh/ptseq"
   ]
  },
  {
   "cell_type": "code",
   "execution_count": 33,
   "metadata": {},
   "outputs": [
    {
     "name": "stdout",
     "output_type": "stream",
     "text": [
      "    1 /share/pi/stamang/cie/clever-n2c2-mimic3-demo1/etoh/ptseq/pt117.txt\n",
      "    1 /share/pi/stamang/cie/clever-n2c2-mimic3-demo1/etoh/ptseq/pt140.txt\n",
      "    1 /share/pi/stamang/cie/clever-n2c2-mimic3-demo1/etoh/ptseq/pt143.txt\n",
      "    1 /share/pi/stamang/cie/clever-n2c2-mimic3-demo1/etoh/ptseq/pt144.txt\n",
      "    1 /share/pi/stamang/cie/clever-n2c2-mimic3-demo1/etoh/ptseq/pt145.txt\n",
      "    1 /share/pi/stamang/cie/clever-n2c2-mimic3-demo1/etoh/ptseq/pt15.txt\n",
      "    1 /share/pi/stamang/cie/clever-n2c2-mimic3-demo1/etoh/ptseq/pt165.txt\n",
      "    2 /share/pi/stamang/cie/clever-n2c2-mimic3-demo1/etoh/ptseq/pt172.txt\n",
      "    7 /share/pi/stamang/cie/clever-n2c2-mimic3-demo1/etoh/ptseq/pt252.txt\n",
      "    1 /share/pi/stamang/cie/clever-n2c2-mimic3-demo1/etoh/ptseq/pt282.txt\n",
      "    1 /share/pi/stamang/cie/clever-n2c2-mimic3-demo1/etoh/ptseq/pt32.txt\n",
      "    1 /share/pi/stamang/cie/clever-n2c2-mimic3-demo1/etoh/ptseq/pt324.txt\n",
      "    1 /share/pi/stamang/cie/clever-n2c2-mimic3-demo1/etoh/ptseq/pt357.txt\n",
      "    1 /share/pi/stamang/cie/clever-n2c2-mimic3-demo1/etoh/ptseq/pt413.txt\n",
      "    2 /share/pi/stamang/cie/clever-n2c2-mimic3-demo1/etoh/ptseq/pt424.txt\n",
      "    1 /share/pi/stamang/cie/clever-n2c2-mimic3-demo1/etoh/ptseq/pt446.txt\n",
      "    2 /share/pi/stamang/cie/clever-n2c2-mimic3-demo1/etoh/ptseq/pt479.txt\n",
      "    4 /share/pi/stamang/cie/clever-n2c2-mimic3-demo1/etoh/ptseq/pt481.txt\n",
      "    1 /share/pi/stamang/cie/clever-n2c2-mimic3-demo1/etoh/ptseq/pt492.txt\n",
      "    1 /share/pi/stamang/cie/clever-n2c2-mimic3-demo1/etoh/ptseq/pt493.txt\n",
      "    1 /share/pi/stamang/cie/clever-n2c2-mimic3-demo1/etoh/ptseq/pt510.txt\n",
      "    1 /share/pi/stamang/cie/clever-n2c2-mimic3-demo1/etoh/ptseq/pt517.txt\n",
      "    4 /share/pi/stamang/cie/clever-n2c2-mimic3-demo1/etoh/ptseq/pt52.txt\n",
      "    4 /share/pi/stamang/cie/clever-n2c2-mimic3-demo1/etoh/ptseq/pt540.txt\n",
      "    5 /share/pi/stamang/cie/clever-n2c2-mimic3-demo1/etoh/ptseq/pt553.txt\n",
      "   10 /share/pi/stamang/cie/clever-n2c2-mimic3-demo1/etoh/ptseq/pt590.txt\n",
      "    1 /share/pi/stamang/cie/clever-n2c2-mimic3-demo1/etoh/ptseq/pt622.txt\n",
      "    1 /share/pi/stamang/cie/clever-n2c2-mimic3-demo1/etoh/ptseq/pt64.txt\n",
      "    1 /share/pi/stamang/cie/clever-n2c2-mimic3-demo1/etoh/ptseq/pt654.txt\n",
      "    1 /share/pi/stamang/cie/clever-n2c2-mimic3-demo1/etoh/ptseq/pt657.txt\n",
      "    1 /share/pi/stamang/cie/clever-n2c2-mimic3-demo1/etoh/ptseq/pt658.txt\n",
      "    1 /share/pi/stamang/cie/clever-n2c2-mimic3-demo1/etoh/ptseq/pt674.txt\n",
      "    1 /share/pi/stamang/cie/clever-n2c2-mimic3-demo1/etoh/ptseq/pt680.txt\n",
      "    1 /share/pi/stamang/cie/clever-n2c2-mimic3-demo1/etoh/ptseq/pt720.txt\n",
      "   65 total\n"
     ]
    }
   ],
   "source": [
    "!wc -l /share/pi/stamang/cie/clever-demo/etoh/ptseq/*"
   ]
  },
  {
   "cell_type": "code",
   "execution_count": 9,
   "metadata": {},
   "outputs": [
    {
     "name": "stdout",
     "output_type": "stream",
     "text": [
      "Weakly labeling instances and sorting output, by time and for each patient...\n",
      "['NEGATIVE', 'NEGEX'] S10-64-ALCOHOL-ABUSE|DRUG-ABUSE_DOT_PT_NEGEX_HX_#ALCOHOL-ABUSE#_DOT_NEGEX_HX_DOT|DRUG-ABUSE_DOT_PT_NEGEX_HX_#ALCOHOL-ABUSE#_DOT_NEGEX_HX_DOT_FAM|alcohol abuse|64|1287|\"Nursing/Other\"|3258-02-10 15:41:00 EST|XXXX|ALCOHOL-ABUSE|1276|2473|UK|NULL|heroin:DRUG-ABUSE:1298:2355:-118,period:DOT:2:2389:-84,patient:PT:9:2396:-77,denies any:NEGEX:437:2452:-21,history of:HX:746:2463:-10,period:DOT:2:2486:13,denies any:NEGEX:437:2493:20,history of:HX:746:2504:31,period:DOT:2:2556:83,husband:FAM:79:2600:127|SNIPPET: n usingheroin one year prior to admission.  The patient smokes athird of a pack of cigarettes a day and denies any history ofalcohol abuse.  She denies any history of providing sexualfavors for drugs or money.  She says her only lifetimepartner is her husband.INI\n",
      "['NEGATIVE', 'HYP'] S4-15-ALCOHOL-ABUSE|HX_FAM_DOT_FAM_#ALCOHOL-ABUSE#_HYP_COLON_CREATININE|HX_FAM_DOT_FAM_#ALCOHOL-ABUSE#_HYP_COLON_CREATININE|alcohol abuse|15|299|\"DISCHARGE_SUMMARY\"|3267-11-17 00:00:00 EST|XXXX|ALCOHOL-ABUSE|1276|5106|UK|NULL|history:HX:747:5022:-84,family:FAM:163:5036:-70,period:DOT:2:5052:-54,father:FAM:161:5095:-11,and possible:HYP:677:5120:14,colon:COLON:1:5169:63,creatinine:CREATININE:1012:5210:104|SNIPPET: ently unaware of any medical psychiatric history inthe family or origin.  He reported that the adoptive motherand father had alcohol abuse and possible psychiatricillnesses.LABORATORY DATA:  On admission CHEM10 and CBC revealed acreatinine of 1.5 but were otherwi\n",
      "['NEGATIVE', 'NEGEX'] S64-493-ALCOHOL-ABUSE|HX_DOT_HX_#ALCOHOL-ABUSE#_NEGEX_DOT|HX_DOT_HX_#ALCOHOL-ABUSE#_NEGEX_DOT_DOT|etoh abuse|493|18923|\"Nursing/Other\"|2787-08-20 13:46:00 EST|XXXX|ALCOHOL-ABUSE|1286|607|UK|NULL|history:HX:747:512:-95,period:DOT:2:570:-37,hx:HX:744:601:-6,has not:NEGEX:405:636:29,period:DOT:2:669:62,period:DOT:2:736:129|SNIPPET: ot very forthcoming about her history and refused to reveal the name of her psychiatrist.  She did allude to a 20 year hx of etoh abuse and said that she has not gone to AA in a long time.  She reports that she is on antibuse but didn't take it yesterday.  She\n",
      "['NEGATIVE', 'HX'] S12-517-ALCOHOL-ABUSE|FAM_HX_#ALCOHOL-ABUSE#_DOT_ALCOHOL_PUNCT|FAM_HX_#ALCOHOL-ABUSE#_DOT_ALCOHOL_PUNCT|alcohol abuse|517|20027|\"RADIOLOGY_REPORT\"|2951-08-25 00:00:00 EST|XXXX|ALCOHOL-ABUSE|1276|615|UK|NULL|mother:FAM:71:577:-38,history of:HX:746:590:-25,period:DOT:2:628:13,alcohol:ALCOHOL:1275:662:47,comma:PUNCT:6:728:113|SNIPPET: was transfered to [**Hospital1 19**] once the extent of complications were identified.Mother has a history of substance and alcohol abuse.  She acknowledges being a heavy alcohol user for about six or seven years prior to being pregnancy, and states that she use\n",
      "['NEGATIVE', 'HX'] S58-479-ALCOHOL-ABUSE|SCREEN_DOT_HX_HX_ALCOHOL_ABUSE_#ALCOHOL-ABUSE#_HX_COLON_NEGEX|SCREEN_DOT_HX_HX_ALCOHOL_ABUSE_#ALCOHOL-ABUSE#_HX_COLON_NEGEX|alcoholic|479|18614|\"RADIOLOGY_REPORT\"|3186-09-22 00:00:00 EST|XXXX|ALCOHOL-ABUSE|1292|473|UK|NULL|evaluation:SCREEN:725:348:-125,period:DOT:2:358:-115,past:HX:743:418:-55,history of:HX:746:443:-30,alcohol:ALCOHOL:1275:454:-19,abuse:ABUSE:1277:462:-11,history of:HX:746:528:55,colon:COLON:1:564:91,none:NEGEX:327:567:94|SNIPPET: evaluation.  She ultimately proved to have a perforatedduodenal ulcer.PAST MEDICAL HISTORY:1.  History of alcohol abuse with alcoholic cirrhosis.2.  Arthritis.3.  Hypertension.4.  History of nephrolithiasis.ALLERGIES:  None.MEDICATIONS:1.  Naprosyn.2.  Lopres\n",
      "['NEGATIVE', 'HX'] S57-479-ALCOHOL-ABUSE|SCREEN_DOT_HX_HX_#ALCOHOL-ABUSE#_HX_COLON_NEGEX|SCREEN_DOT_HX_HX_#ALCOHOL-ABUSE#_HX_COLON_NEGEX|alcohol abuse|479|18614|\"RADIOLOGY_REPORT\"|3186-09-22 00:00:00 EST|XXXX|ALCOHOL-ABUSE|1276|454|UK|NULL|evaluation:SCREEN:725:348:-106,period:DOT:2:358:-96,past:HX:743:418:-36,history of:HX:746:443:-11,history of:HX:746:528:74,colon:COLON:1:564:110,none:NEGEX:327:567:113|SNIPPET: emergency room forevaluation.  She ultimately proved to have a perforatedduodenal ulcer.PAST MEDICAL HISTORY:1.  History of alcohol abuse with alcoholic cirrhosis.2.  Arthritis.3.  Hypertension.4.  History of nephrolithiasis.ALLERGIES:  None.MEDICATIONS:1.  Napr\n",
      "['NEGATIVE', 'HX'] S33-143-ALCOHOL-ABUSE|PUNCT_COLON_COLON_HX_#ALCOHOL-ABUSE#_DOT_NEGEX_COLON_PUNCT_PUNCT_PUNCT|PUNCT_COLON_COLON_HX_#ALCOHOL-ABUSE#_DOT_NEGEX_COLON_PUNCT_PUNCT_PUNCT|alcohol abuse|143|5642|\"RADIOLOGY_REPORT\"|3072-03-09 00:00:00 EST|XXXX|ALCOHOL-ABUSE|1276|1396|UK|NULL|comma:PUNCT:6:1288:-108,colon:COLON:1:1347:-49,colon:COLON:1:1382:-14,history of:HX:746:1385:-11,period:DOT:2:1409:13,denies any:NEGEX:437:1412:16,colon:COLON:1:1460:64,comma:PUNCT:6:1475:79,comma:PUNCT:6:1493:97,comma:PUNCT:6:1507:111|SNIPPET: inic is Discovery, phone number [**Telephone/Fax (1) 10430**].SOCIAL HISTORY:  Lives in [**State 4773**].HABITS:  History of alcohol abuse.  Denies any cigarettesmoking.PHYSICAL EXAMINATION:  On admission, temperature 98.1, heartrate 65, blood pressure 122/84 wit\n",
      "['POSITIVE', 'ALCOHOL-ABUSE'] S48-657-ALCOHOL-ABUSE|DOT_DOT_PT|DOT_DOT_PT|etoh abuse|657|27304|\"Nursing/Other\"|2808-08-14 05:15:00 EST|XXXX|ALCOHOL-ABUSE|1286|359|UK|NULL|period:DOT:2:246:-113,period:DOT:2:291:-68,pt:PT:8:306:-53|SNIPPET: (w/UO 950cc). Transferred to ICU for overnight monitoring. Plan to attempt extubation in am.PMH:Peripheral neuropathyChronic ETOH abuse (in recover x1 yr)HTNMI '[**91**]mult lipomasMVA > 15 yrs ago c/b cardfiac arrestPSH:Ventral hernia repairBack operation [**\n",
      "['NEGATIVE', 'NEGEX'] S56-446-ALCOHOL-ABUSE|PUNCT_PUNCT_PUNCT_PUNCT_NEGEX_#ALCOHOL-ABUSE#_FAM_FAM_FAM_HX|PUNCT_PUNCT_PUNCT_PUNCT_NEGEX_#ALCOHOL-ABUSE#_FAM_FAM_FAM_HX|alcohol abuse|446|17058|\"RADIOLOGY_REPORT\"|2665-06-06 00:00:00 EST|XXXX|ALCOHOL-ABUSE|1276|759|UK|NULL|comma:PUNCT:6:653:-106,comma:PUNCT:6:661:-98,comma:PUNCT:6:695:-64,comma:PUNCT:6:700:-59,denies:NEGEX:438:741:-18,family:FAM:163:820:61,family:FAM:163:835:76,daughter:FAM:171:867:108,ho:HX:745:877:118|SNIPPET: id obesity (BMI 37), asthma, [**Doctor Last Name 314**] apnea, HTN, anemia,restless legsSocial History:She denies tobacco or alcohol abuse but does enjoy taking 2glasses of wine nightly.Family History:Family history is notable for a daughter who underwent Roux-en\n",
      "['POSITIVE', 'ALCOHOL-ABUSE'] S18-553-ALCOHOL-ABUSE|#ALCOHOL-ABUSE#_DOT_PUNCT_COLON|#ALCOHOL-ABUSE#_DOT_PUNCT_COLON|alcoholism|553|22212|\"RADIOLOGY_REPORT\"|3386-10-09 00:00:00 EST|XXXX|ALCOHOL-ABUSE|1284|3553|UK|NULL|period:DOT:2:3563:10,comma:PUNCT:6:3645:92,colon:COLON:1:3673:120|SNIPPET: ictions consult was continued andefforts were made at placement at facilities to treat bothher depression and her underlying alcoholism.  She ispresently medically cleared for discharge and is awaiting abed.3.  Fluids, electrolytes and nutrition:  Adequate flu\n",
      "['POSITIVE', 'ALCOHOL-ABUSE'] S17-553-ALCOHOL-ABUSE|FAM_DOT_HX|FAM_DOT_HX|alcohol abuse|553|22212|\"RADIOLOGY_REPORT\"|3386-10-09 00:00:00 EST|XXXX|ALCOHOL-ABUSE|1276|377|UK|NULL|boyfriend:FAM:204:337:-40,period:DOT:2:354:-23,history of:HX:746:366:-11|SNIPPET: 19year-old female brought in by ambulance after having beenfound unresponsive by her boyfriend at home.  She had ahistory of alcohol abuse with hospitalizations as far back as[**3386-2-9**] at [**Hospital6 1338**] for alcoholintoxication requiring intubation and\n",
      "['POSITIVE', 'ALCOHOL-ABUSE'] S20-553-ALCOHOL-ABUSE|DOT_DOT_#ALCOHOL-ABUSE#_ALCOHOL_PUNCT_PUNCT_COLON_COLON_PT|DOT_DOT_#ALCOHOL-ABUSE#_ALCOHOL_PUNCT_PUNCT_COLON_COLON_PT|etoh abuse|553|22215|\"Nursing/Other\"|3386-10-10 07:07:00 EST|XXXX|ALCOHOL-ABUSE|1286|485|UK|NULL|period:DOT:2:373:-112,period:DOT:2:458:-27,etoh:ALCOHOL:1280:520:35,comma:PUNCT:6:533:48,comma:PUNCT:6:547:62,colon:COLON:1:576:91,colon:COLON:1:584:99,pt:PT:8:586:101|SNIPPET: SICU AT 7:30P.  ARRIVED SEDATED YET SHORTLY WOKE - EXTREMELY AGITATED REQUIRING 4 TO HOLD HER DOWN. STARTED ON PROPOFOL.PMH: ETOH ABUSE HOSPITALIZED IN FEB FOR ETOH OVERDOSE,  MILD ASTHMA, DEPRESSION ON RITALIN.R.O.S:  NEURO: PT SEDATED ON PROPFOL REQUIRING IN\n",
      "['NEGATIVE', 'HX'] S19-553-ALCOHOL-ABUSE|HX_HX_#ALCOHOL-ABUSE#_DOT_PT_PUNCT_PUNCT_PUNCT_PUNCT|HX_HX_#ALCOHOL-ABUSE#_DOT_PT_PUNCT_PUNCT_PUNCT_PUNCT|etoh abuse|553|22215|\"Nursing/Other\"|3386-10-10 07:07:00 EST|XXXX|ALCOHOL-ABUSE|1286|70|UK|NULL|past:HX:743:59:-11,hx:HX:744:64:-6,period:DOT:2:80:10,pt:PT:8:96:26,comma:PUNCT:6:118:48,comma:PUNCT:6:134:64,comma:PUNCT:6:148:78,comma:PUNCT:6:187:117|SNIPPET: CTIC/SICU NURSING ADMIT NOTETHIS IS A 19YR OLD FEMALE WITH PAST HX OF ETOH ABUSE.  FRIEND FOUND PT IN PARK INTOXICATED, SLURRED SPEECH, VOMMITED X 2, STATING SHE JUST WANTED TO TAKE A NAP,  FRIEND WENT FOR\n",
      "['NEGATIVE', 'NEGEX'] S21-553-ALCOHOL-ABUSE|DOT_PT_NEGEX_#ALCOHOL-ABUSE#_DOT_SCREEN_HYP_PT|DOT_PT_NEGEX_#ALCOHOL-ABUSE#_DOT_SCREEN_HYP_PT|drunk|553|22216|\"Nursing/Other\"|3386-10-10 10:47:00 EST|XXXX|ALCOHOL-ABUSE|1291|926|UK|NULL|period:DOT:2:880:-46,pt:PT:8:882:-44,denies:NEGEX:438:885:-41,period:DOT:2:931:5,eval:SCREEN:729:1017:91,and possible:HYP:677:1022:96,patient:PT:9:1037:111|SNIPPET: ng for friend/[**First Name9 (NamePattern2) 1963**] [**Doctor Last Name 1964**]. Pt denies SI/HI she states she drank to get drunk. Last MG 1.5 pre MVI. Plan to tansfer to floor and stay hospitalized x24/hr psych to eval and possible inpatient detox\n",
      "['POSITIVE', 'ALCOHOL-ABUSE'] S13-540-ALCOHOL-ABUSE|PUNCT_#ALCOHOL-ABUSE#_DOT_NEGEX_DOT_DOT|PUNCT_#ALCOHOL-ABUSE#_DOT_NEGEX_DOT_DOT|etoh abuse|540|21774|\"Nursing/Other\"|2829-04-19 17:53:00 EST|XXXX|ALCOHOL-ABUSE|1286|384|UK|NULL|?:PUNCT:3:311:-73,period:DOT:2:394:10,except:NEGEX:413:431:47,period:DOT:2:451:67,period:DOT:2:485:101|SNIPPET: MH includes allergy to percocets(hallucinations)and ? if what is occurring is related to MSO4 previously given or related to ETOH abuse.  Remains in AFIB and normaltensive except when agitated.  L/S-clear with wheezes at times.  See CareVue for ABG's and other\n",
      "['POSITIVE', 'ALCOHOL-ABUSE'] S14-540-ALCOHOL-ABUSE|DOT_COLON_COLON_#ALCOHOL-ABUSE#_COLON_PUNCT_NEGEX_PUNCT_PUNCT_PUNCT|DOT_COLON_COLON_#ALCOHOL-ABUSE#_COLON_PUNCT_NEGEX_PUNCT_PUNCT_PUNCT_PUNCT|etoh abuse|540|21777|\"Nursing/Other\"|2829-04-20 17:38:00 EST|XXXX|ALCOHOL-ABUSE|1286|909|UK|NULL|period:DOT:2:790:-119,colon:COLON:1:834:-75,colon:COLON:1:857:-52,colon:COLON:1:937:28,comma:PUNCT:6:968:59,ro:NEGEX:292:973:64,comma:PUNCT:6:993:84,comma:PUNCT:6:1006:97,comma:PUNCT:6:1013:104,comma:PUNCT:6:1036:127|SNIPPET: ainage.  Abd binders remain on at all times.Social:  No calls overnight.A:  Alteration in mental status ?due to narcotics or ETOH abuse (per mother).Plan:  Cont to monitor hemodynamics, neuro status CIWA scale, resp status, I&O's, monitor skin/incision, cont t\n",
      "['NEGATIVE', 'HX'] S15-540-ALCOHOL-ABUSE|COLON_PT_PT_HX_#ALCOHOL-ABUSE#_DOT|COLON_PT_PT_HX_#ALCOHOL-ABUSE#_DOT|etoh abuse|540|21778|\"Nursing/Other\"|2829-04-21 05:51:00 EST|XXXX|ALCOHOL-ABUSE|1286|1686|UK|NULL|colon:COLON:1:1624:-62,pt:PT:8:1627:-59,pt:PT:8:1652:-34,hx:HX:744:1674:-12,period:DOT:2:1696:10|SNIPPET: has transverse abd incision that is covered with abd wrap.Endo:  Pt covered by SS insulin.Pt only has addiction hx of heavy ETOH abuse.\n",
      "['POSITIVE', 'ALCOHOL-ABUSE'] S16-540-ALCOHOL-ABUSE|COLON_PT_#ALCOHOL-ABUSE#_PT_FAM_COLON_COLON|COLON_PT_#ALCOHOL-ABUSE#_PT_FAM_COLON_COLON|alcoholic|540|21800|\"Nursing/Other\"|2829-05-01 17:35:00 EST|XXXX|ALCOHOL-ABUSE|1292|1690|UK|NULL|colon:COLON:1:1606:-84,patient:PT:9:1654:-36,pt:PT:8:1701:11,family:FAM:163:1737:47,colon:COLON:1:1779:89,colon:COLON:1:1789:99|SNIPPET: ) 1931**] (CELL)POWER OF ATTORNEY?BROTHER: [**First Name4 (NamePattern1) 630**] [**Known patient lastname 1928**]  (RECOVERY ALCOHOLIC.)PT HAD DETOX X 1 MANY YEARS AGO PER FAMILY...LONGEST ABSTINENCE WAS 3 MONTHS.A: STABLE.P: TX TO [**Hospital Ward Name 53**]\n",
      "['NEGATIVE', 'NEGEX'] S50-674-ALCOHOL-ABUSE|NEGEX_DOT_NEGEX_HX_#ALCOHOL-ABUSE#_DOT_PT_FAM_PUNCT_PUNCT_FAM_FAM|NEGEX_DOT_NEGEX_HX_#ALCOHOL-ABUSE#_DOT_PT_FAM_PUNCT_PUNCT_FAM_FAM|alcohol abuse|674|27485|\"RADIOLOGY_REPORT\"|3156-04-14 00:00:00 EST|XXXX|ALCOHOL-ABUSE|1276|1876|UK|NULL|absence of:NEGEX:488:1822:-54,period:DOT:2:1851:-25,there is no:NEGEX:243:1853:-23,history of:HX:746:1865:-11,period:DOT:2:1889:13,pt:PT:8:1891:15,husband:FAM:79:1907:31,comma:PUNCT:6:1921:45,comma:PUNCT:6:1942:66,husband:FAM:79:1976:100,family:FAM:163:2001:125|SNIPPET: undle-branch blockSocial History:Social history is significant for the absence of current tobaccouse. There is no history of alcohol abuse. Pt cares for herhusband athome, has Meals on Wheels, cleaning woman every other week;husband has aide 4x/week.Family Histor\n",
      "['NEGATIVE', 'HX'] S1-282-ALCOHOL-ABUSE|HX_HX_HX_#ALCOHOL-ABUSE#_HX_HX|HX_HX_HX_#ALCOHOL-ABUSE#_HX_HX|alcoholic|282|10459|\"RADIOLOGY_REPORT\"|3258-01-16 00:00:00 EST|XXXX|ALCOHOL-ABUSE|1292|1255|UK|NULL|h/o:HX:748:1164:-91,h/o:HX:748:1229:-26,h/o:HX:748:1251:-4,h/o:HX:748:1342:87,h/o:HX:748:1358:103|SNIPPET: ory:CVA 2.5yrs agoSeizure disorderh/o Urosepsis/UTIHypertensionOsteoporosisPancreatic insufficiencyh/o Depression/anxietyh/o alcoholic liver diseaseHypothyroidismChronic renal insufficiency - baseline CRE 1.4-1.8h/o Hyperkalemiah/o AmeniaSocial History:Non-co\n",
      "['NEGATIVE', 'HX'] S53-413-ALCOHOL-ABUSE|ABDOMINAL_DOT_NEGEX_DOT_HX_#ALCOHOL-ABUSE#_PUNCT_PT|ABDOMINAL_DOT_NEGEX_DOT_HX_#ALCOHOL-ABUSE#_PUNCT_PT|alcohol abuse|413|15203|\"RADIOLOGY_REPORT\"|3271-10-28 00:00:00 EST|XXXX|ALCOHOL-ABUSE|1276|902|UK|NULL|bowel:ABDOMINAL:1229:783:-119,period:DOT:2:824:-78,denied:NEGEX:440:830:-72,period:DOT:2:873:-29,history of:HX:746:891:-11,comma:PUNCT:6:970:68,patient:PT:9:976:74|SNIPPET: ormal bowel movements one day priorto admission.  He denied bright red blood per rectum ormelena.  He does have a history of alcohol abuse and is aformer cigarette smoker.At [**Hospital3 209**], the patient had a normal chest x-rayand KUB and was found to have an\n",
      "['NEGATIVE', 'HX'] S32-140-ALCOHOL-ABUSE|PUNCT_HX_PUNCT_#ALCOHOL-ABUSE#_HX_PUNCT_HX|PUNCT_HX_PUNCT_#ALCOHOL-ABUSE#_HX_PUNCT_HX|etoh abuse|140|5597|\"Nursing/Other\"|2553-08-05 13:21:00 EST|XXXX|ALCOHOL-ABUSE|1286|3616|discharge|3235|comma:PUNCT:6:3591:-25,history:HX:747:3593:-23,comma:PUNCT:6:3614:-2,ho:HX:745:3628:12,;:PUNCT:5:3682:66,past:HX:743:3732:116|SNIPPET: 8.6 Phos-3.8 Mg-2.1Brief Hospital Course:A/P: 53 y/o man with CAD s/p recent stent ([**2553-7-27**]), history ofHepatitis C, EtOH abuse who presented from OSH with melena,coffee ground emesis; found to have hematocrit drop from 36 to26 over past 8 days prior t\n",
      "['POSITIVE', 'ALCOHOL-ABUSE'] S49-658-ALCOHOL-ABUSE|COLON_#ALCOHOL-ABUSE#_DOT_COLON_NEGEX|COLON_#ALCOHOL-ABUSE#_DOT_COLON_NEGEX|etoh abuse|658|27310|\"RADIOLOGY_REPORT\"|3448-01-07 00:00:00 EST|XXXX|ALCOHOL-ABUSE|1286|891|UK|NULL|colon:COLON:1:889:-2,period:DOT:2:901:10,colon:COLON:1:937:46,without:NEGEX:224:987:96|SNIPPET: cations for IV contrast______________________________________________________________________________FINAL REPORTINDICATION: ETOH abuse.  Found down unresponsive.TECHNIQUE: Multiple axial images of the head were obtained without IVcontrast.CT HEAD W/O IV CONTR\n",
      "['NEGATIVE', 'HX'] S2-324-ALCOHOL-ABUSE|PT_DRUG-ABUSE_ALCOHOL_DOT_PUNCT_PT_HX_#ALCOHOL-ABUSE#_DOT_PT_HX|PT_DRUG-ABUSE_ALCOHOL_DOT_PUNCT_PT_HX_#ALCOHOL-ABUSE#_DOT_PT_HX|alcohol abuse|324|11972|\"Nursing/Other\"|2541-12-20 16:29:00 EST|XXXX|ALCOHOL-ABUSE|1276|154|UK|NULL|pt:PT:8:50:-104,substance abuse:DRUG-ABUSE:1302:59:-95,etoh:ALCOHOL:1280:125:-29,period:DOT:2:129:-25,comma:PUNCT:6:139:-15,pt:PT:8:141:-13,hx:HX:744:148:-6,period:DOT:2:167:13,pt:PT:8:170:16,ho:HX:745:222:68|SNIPPET: referral to f/u with pt about substance abuse issues due to fall at home last night while + for etoh.  Per OMR, pt has hx of alcohol abuse.  Pt is a 54 year old physician (pediatric allergist who works for [**Hospital1 1235**]) who lives in [**Location 427**] wit\n",
      "['NEGATIVE', 'FAM'] S34-144-ALCOHOL-ABUSE|PUNCT_DOT_FAM_HX_#ALCOHOL-ABUSE#_PUNCT_FAM_DOT_FAM_NEGEX|PUNCT_DOT_FAM_HX_#ALCOHOL-ABUSE#_PUNCT_FAM_DOT_FAM_NEGEX|alcohol abuse|144|5731|\"Nursing/Other\"|2624-07-12 16:27:00 EST|XXXX|ALCOHOL-ABUSE|1276|879|UK|NULL|comma:PUNCT:6:822:-57,period:DOT:2:835:-44,sister:FAM:40:837:-42,hx:HX:744:864:-15,comma:PUNCT:6:898:19,family:FAM:163:914:35,period:DOT:2:934:55,children:FAM:182:977:98,has not:NEGEX:405:999:120|SNIPPET: First Name8 (NamePattern2) 550**] [**Last Name (NamePattern1) 551**], to confirm). Sister also reports a long hx of drug and alcohol abuse by pt, and fractured family relationships.  Pt has been married three times and has children with whom he has not been in co\n",
      "['POSITIVE', 'ALCOHOL-ABUSE'] S22-590-ALCOHOL-ABUSE|PUNCT_#ALCOHOL-ABUSE#_DOT_PUNCT_PUNCT_ABDOMINAL|PUNCT_#ALCOHOL-ABUSE#_DOT_PUNCT_PUNCT_ABDOMINAL_DOT|etoh abuse|590|23434|\"RADIOLOGY_REPORT\"|3071-01-05 00:00:00 EST|XXXX|ALCOHOL-ABUSE|1286|404|view|228|comma:PUNCT:6:402:-2,period:DOT:2:414:10,comma:PUNCT:6:434:30,comma:PUNCT:6:492:88,abdominal:ABDOMINAL:1230:524:120,period:DOT:2:538:134|SNIPPET: ______________________________________________________________UNDERLYING MEDICAL CONDITION:69 year old man with prostate CA, etoh abuse. Here with lethargy, painlessjaundice with total bilirubin 20 (mainly direct), elevated amylase/lipase butno abdominal pain.\n",
      "['NEGATIVE', 'SCREEN'] S23-590-ALCOHOL-ABUSE|SCREEN_COLON_PUNCT_#ALCOHOL-ABUSE#_SCREEN_COLON|SCREEN_COLON_PUNCT_#ALCOHOL-ABUSE#_SCREEN_COLON|alcohol abuse|590|23434|\"RADIOLOGY_REPORT\"|3071-01-05 00:00:00 EST|XXXX|ALCOHOL-ABUSE|1276|820|view|228|scan:SCREEN:707:711:-109,colon:COLON:1:778:-42,comma:PUNCT:6:818:-2,study:SCREEN:693:875:55,colon:COLON:1:911:91|SNIPPET: _FINAL REPORTCT SCAN OF THE ABDOMEN AND PELVIS WITH CONTRAST [**3071-1-5**].HISTORY:  69 year old male with prostate cancer, alcohol abuse and painlessjaundice.Comparison to prior study from [**3069-1-18**].TECHNIQUE:  Contiguous axial imaging was performed from\n",
      "['NEGATIVE', 'NEGEX'] S24-590-ALCOHOL-ABUSE|HYP_HX_#ALCOHOL-ABUSE#_NEGEX_HYP_PUNCT|HYP_HX_#ALCOHOL-ABUSE#_NEGEX_HYP_PUNCT|alcohol abuse|590|23434|\"RADIOLOGY_REPORT\"|3071-01-05 00:00:00 EST|XXXX|ALCOHOL-ABUSE|1276|3451|view|3102|likely:HYP:623:3342:-109,history of:HX:746:3440:-11,there is no:NEGEX:243:3465:14,suggest:HYP:556:3498:47,comma:PUNCT:6:3554:103|SNIPPET: the right lobe likely represent diffuse fatty infiltration withareas of sparing secondary to the patient's known history of alcohol abuse.There is no ductal dilatation to suggest obstruction.  Portal and hepaticveins are patent, though the hepatic veins appear t\n",
      "['NEGATIVE', 'HYP'] S25-590-ALCOHOL-ABUSE|HYP_HYP_PT_HX_#ALCOHOL-ABUSE#_DOT_PUNCT_PUNCT|HYP_HYP_PT_HX_#ALCOHOL-ABUSE#_DOT_PUNCT_PUNCT|alcohol abuse|590|23434|\"RADIOLOGY_REPORT\"|3071-01-05 00:00:00 EST|XXXX|ALCOHOL-ABUSE|1276|4078|view|3102|raises the question:HYP:573:3958:-120,question of:HYP:580:3969:-109,patient:PT:9:4013:-65,history of:HX:746:4067:-11,period:DOT:2:4091:13,comma:PUNCT:6:4100:22,comma:PUNCT:6:4161:83|SNIPPET: reas raises the question of pancreatitis,especially as this patient reportedly has elevated pancreatic enzymes andhistory of alcohol abuse. However, in the setting of liver failure and moregeneralized ascites, this sign is less specific.4) Small bilateral pleural\n",
      "['NEGATIVE', 'NEGEX'] S28-590-ALCOHOL-ABUSE|HYP_HX_#ALCOHOL-ABUSE#_NEGEX_HYP_PUNCT|HYP_HX_#ALCOHOL-ABUSE#_NEGEX_HYP_PUNCT|alcohol abuse|590|23435|\"Nursing/Other\"|3071-01-05 16:33:00 EST|XXXX|ALCOHOL-ABUSE|1276|3451|view|3102|likely:HYP:623:3342:-109,history of:HX:746:3440:-11,there is no:NEGEX:243:3465:14,suggest:HYP:556:3498:47,comma:PUNCT:6:3554:103|SNIPPET: the right lobe likely represent diffuse fatty infiltration withareas of sparing secondary to the patient's known history of alcohol abuse.There is no ductal dilatation to suggest obstruction.  Portal and hepaticveins are patent, though the hepatic veins appear t\n",
      "['NEGATIVE', 'SCREEN'] S27-590-ALCOHOL-ABUSE|SCREEN_COLON_PUNCT_#ALCOHOL-ABUSE#_SCREEN_COLON|SCREEN_COLON_PUNCT_#ALCOHOL-ABUSE#_SCREEN_COLON|alcohol abuse|590|23435|\"Nursing/Other\"|3071-01-05 16:33:00 EST|XXXX|ALCOHOL-ABUSE|1276|820|view|228|scan:SCREEN:707:711:-109,colon:COLON:1:778:-42,comma:PUNCT:6:818:-2,study:SCREEN:693:875:55,colon:COLON:1:911:91|SNIPPET: _FINAL REPORTCT SCAN OF THE ABDOMEN AND PELVIS WITH CONTRAST [**3071-1-5**].HISTORY:  69 year old male with prostate cancer, alcohol abuse and painlessjaundice.Comparison to prior study from [**3069-1-18**].TECHNIQUE:  Contiguous axial imaging was performed from\n",
      "['NEGATIVE', 'HYP'] S29-590-ALCOHOL-ABUSE|HYP_HYP_PT_HX_#ALCOHOL-ABUSE#_DOT_PUNCT_PUNCT|HYP_HYP_PT_HX_#ALCOHOL-ABUSE#_DOT_PUNCT_PUNCT|alcohol abuse|590|23435|\"Nursing/Other\"|3071-01-05 16:33:00 EST|XXXX|ALCOHOL-ABUSE|1276|4078|view|3102|raises the question:HYP:573:3958:-120,question of:HYP:580:3969:-109,patient:PT:9:4013:-65,history of:HX:746:4067:-11,period:DOT:2:4091:13,comma:PUNCT:6:4100:22,comma:PUNCT:6:4161:83|SNIPPET: reas raises the question of pancreatitis,especially as this patient reportedly has elevated pancreatic enzymes andhistory of alcohol abuse. However, in the setting of liver failure and moregeneralized ascites, this sign is less specific.4) Small bilateral pleural\n",
      "['POSITIVE', 'ALCOHOL-ABUSE'] S26-590-ALCOHOL-ABUSE|PUNCT_#ALCOHOL-ABUSE#_DOT_PUNCT_PUNCT_ABDOMINAL|PUNCT_#ALCOHOL-ABUSE#_DOT_PUNCT_PUNCT_ABDOMINAL_DOT|etoh abuse|590|23435|\"Nursing/Other\"|3071-01-05 16:33:00 EST|XXXX|ALCOHOL-ABUSE|1286|404|view|228|comma:PUNCT:6:402:-2,period:DOT:2:414:10,comma:PUNCT:6:434:30,comma:PUNCT:6:492:88,abdominal:ABDOMINAL:1230:524:120,period:DOT:2:538:134|SNIPPET: ______________________________________________________________UNDERLYING MEDICAL CONDITION:69 year old man with prostate CA, etoh abuse. Here with lethargy, painlessjaundice with total bilirubin 20 (mainly direct), elevated amylase/lipase butno abdominal pain.\n",
      "['POSITIVE', 'ALCOHOL-ABUSE'] S30-590-ALCOHOL-ABUSE|PUNCT_PUNCT_DOT_PT_#ALCOHOL-ABUSE#_DOT_PT_PUNCT_DOT_PT|PUNCT_PUNCT_DOT_PT_#ALCOHOL-ABUSE#_DOT_PT_PUNCT_DOT_PT|etoh abuse|590|23436|\"Nursing/Other\"|3071-01-06 05:45:00 EST|XXXX|ALCOHOL-ABUSE|1286|224|UK|NULL|comma:PUNCT:6:120:-104,comma:PUNCT:6:133:-91,period:DOT:2:154:-70,pt:PT:8:157:-67,period:DOT:2:234:10,pt:PT:8:266:42,comma:PUNCT:6:285:61,period:DOT:2:308:84,pt:PT:8:331:107|SNIPPET: diagnosis of lethargy, hypotension, abnormal lab values.  Pt was seen in [**Hospital1 **] ed 3 days ago for adm to detox for etoh abuse.  While at [**Hospital3 737**] pt became lethargic, weak and had diff amb.  While in ed this am pt became hypotensive and de\n",
      "['NEGATIVE', 'HX'] S31-590-ALCOHOL-ABUSE|DOT_PT_HX_#ALCOHOL-ABUSE#_PUNCT_DOT_PUNCT_PUNCT_PUNCT|DOT_PT_HX_#ALCOHOL-ABUSE#_PUNCT_DOT_PUNCT_PUNCT_PUNCT|etoh abuse|590|23436|\"Nursing/Other\"|3071-01-06 05:45:00 EST|XXXX|ALCOHOL-ABUSE|1286|413|UK|NULL|period:DOT:2:308:-105,pt:PT:8:331:-82,hx:HX:744:407:-6,comma:PUNCT:6:445:32,period:DOT:2:458:45,comma:PUNCT:6:473:60,comma:PUNCT:6:496:83,comma:PUNCT:6:507:94|SNIPPET: eak and had diff amb.  While in ed this am pt became hypotensive and decision was made to admit to unit.allergies --asaHx of etoh abuse and withdrawel w/o sz, prostate ca. in [**3068**], pancreatitis gi bleed, gastritis, chronic hypocalcemia,cad with - cathete\n",
      "['NEGATIVE', 'HX'] S65-510-ALCOHOL-ABUSE|HX_PUNCT_PUNCT_#ALCOHOL-ABUSE#_HX_PUNCT_PUNCT_PUNCT_PT|HX_PUNCT_PUNCT_#ALCOHOL-ABUSE#_HX_PUNCT_PUNCT_PUNCT_PT|etoh abuse|510|19760|\"Nursing/Other\"|2841-03-28 04:06:00 EST|XXXX|ALCOHOL-ABUSE|1286|54|UK|NULL|h/o:HX:748:37:-17,comma:PUNCT:6:47:-7,comma:PUNCT:6:52:-2,h/o:HX:748:69:15,comma:PUNCT:6:112:58,comma:PUNCT:6:117:63,comma:PUNCT:6:133:79,pt:PT:8:162:108|SNIPPET: 1900-0700 rn notes micu53 y.o F with h/o of CAD, HTN, ETOH abuse nad h/o of DT's presented to ED with chest pain, SOB, tremors x2days, last drink 2 days ago,N/V,.pt reports to have chest pa\n",
      "['POSITIVE', 'ALCOHOL-ABUSE'] S36-165-ALCOHOL-ABUSE|#ALCOHOL-ABUSE#_COLON_PT_ASPIRIN_DOT|#ALCOHOL-ABUSE#_COLON_PT_ASPIRIN_DOT|drunk|165|7427|\"Nursing/Other\"|3196-06-11 16:21:00 EST|XXXX|ALCOHOL-ABUSE|1291|70|UK|NULL|colon:COLON:1:77:7,pt:PT:8:80:10,asa:ASPIRIN:1015:158:88,period:DOT:2:177:107|SNIPPET: CCU Nursing Progress/Proceedure Note 2:15pm-5;30pmS:  I feel like I'm drunk!O:  Pt pre medicated on [**Hospital Ward Name **] 3 with 5mg po Benedryl prior to ASA desensitization.  Alert and cooperativ\n",
      "['NEGATIVE', 'HX'] S52-720-ALCOHOL-ABUSE|PUNCT_DOT_DOT_SCREEN_DOT_PT_#ALCOHOL-ABUSE#_HX_HYP_NEGEX_FAM_ALCOHOL|PUNCT_DOT_DOT_SCREEN_DOT_PT_#ALCOHOL-ABUSE#_HX_HYP_NEGEX_FAM_ALCOHOL_NEGEX_COLON|etoh abuse|720|29297|\"Nursing/Other\"|2850-02-22 05:29:00 EST|XXXX|ALCOHOL-ABUSE|1286|924|UK|NULL|comma:PUNCT:6:844:-80,period:DOT:2:879:-45,period:DOT:2:883:-41,screen:SCREEN:706:889:-35,period:DOT:2:909:-15,pt:PT:8:911:-13,hx:HX:744:935:11,although:HYP:678:938:14,ro:NEGEX:292:960:36,husband:FAM:79:1015:91,drinks:ALCOHOL:1278:1023:99,ro:NEGEX:292:1056:132,colon:COLON:1:1058:134|SNIPPET: sputum cx grew [**Female First Name (un) **], and pcp [**Name Initial (PRE) **]. x2. tox screen + for opiates. pt has known etoh abuse hx although she was dry fro over twen years has been regularly drinking and per husband drinks a pint of liquor a day.neuro:\n",
      "['NEGATIVE', 'NEGEX'] S35-145-ALCOHOL-ABUSE|NEGEX_DOT_FAM_PT_DOT_ALCOHOL_NEGEX_HX_#ALCOHOL-ABUSE#_ABUSE_COLON_PUNCT_PUNCT|NEGEX_DOT_FAM_PT_DOT_ALCOHOL_NEGEX_HX_#ALCOHOL-ABUSE#_ABUSE_COLON_PUNCT_PUNCT|alcoholism|145|5762|\"Nursing/Other\"|2879-05-01 04:38:00 EST|XXXX|ALCOHOL-ABUSE|1284|2853|UK|NULL|not:NEGEX:324:2750:-103,period:DOT:2:2768:-85,daughter:FAM:171:2770:-83,pt:PT:8:2792:-61,period:DOT:2:2794:-59,drinks:ALCOHOL:1278:2796:-57,but no:NEGEX:468:2829:-24,history of:HX:746:2842:-11,excessive:ABUSE:1290:2867:14,colon:COLON:1:2887:34,comma:PUNCT:6:2922:69,comma:PUNCT:6:2975:122|SNIPPET: ks \"\"socially\"\" but \"\"not to get drunk\"\". Daughter reports that Pt. drinks \"\"few beers on weekends\"\" but no known history of alcoholism or excessive drinking.A: Hemodynamically stable on Nipride, Labetalol. Increased N/V. Transient bump in lactate, now at 1.0.\n",
      "['NEGATIVE', 'FAM'] S54-424-ALCOHOL-ABUSE|DOT_ALCOHOL_DOT_PT_HX_HX_#ALCOHOL-ABUSE#_FAM_DOT_HX_DOT_PT|DOT_ALCOHOL_DOT_PT_HX_HX_#ALCOHOL-ABUSE#_FAM_DOT_HX_DOT_PT|alcoholism|424|15747|\"Nursing/Other\"|2514-08-21 12:01:00 EST|XXXX|ALCOHOL-ABUSE|1284|279|UK|NULL|period:DOT:2:173:-106,etoh:ALCOHOL:1280:180:-99,period:DOT:2:198:-81,pt:PT:8:201:-78,history of:HX:746:210:-69,history of:HX:746:268:-11,family:FAM:163:297:18,period:DOT:2:303:24,history:HX:747:362:83,period:DOT:2:369:90,pt:PT:8:372:93|SNIPPET: unrestrained driver.  His etoh level was 180.  Pt has a history of depression and \"\"anger issues\"\" and there is a history of alcoholism in his family.  Please see psychiatry notes for further information and history.  Pt is being followed by psychiatry due to\n",
      "['NEGATIVE', 'FAM'] S55-424-ALCOHOL-ABUSE|DOT_PT_FAM_PT_ALCOHOL_#ALCOHOL-ABUSE#_DOT_FAM_PUNCT_PUNCT|DOT_PT_FAM_PT_ALCOHOL_#ALCOHOL-ABUSE#_DOT_FAM_PUNCT_PUNCT_PT|alcoholism|424|15747|\"Nursing/Other\"|2514-08-21 12:01:00 EST|XXXX|ALCOHOL-ABUSE|1284|1867|UK|NULL|period:DOT:2:1764:-103,pt's:PT:7:1784:-83,father:FAM:161:1789:-78,pt's:PT:7:1820:-47,etoh:ALCOHOL:1280:1825:-42,period:DOT:2:1895:28,parents:FAM:45:1903:36,comma:PUNCT:6:1952:85,comma:PUNCT:6:1971:104,pt's:PT:7:1997:130|SNIPPET: ctor First Name 546**].  She reports that pt's father is feeling guilty about pt's etoh issues due to his own struggles with alcoholism (now in recovery).  Both parents given contact information for this SW and, as aforementioned, will notify floor SW of pt's\n",
      "['NEGATIVE', 'HX'] S5-32-ALCOHOL-ABUSE|PT_#ALCOHOL-ABUSE#_HX|PT_#ALCOHOL-ABUSE#_HX|alcohol abuse|32|567|\"RADIOLOGY_REPORT\"|2816-05-11 00:00:00 EST|XXXX|ALCOHOL-ABUSE|1276|865|UK|NULL|patient:PT:9:813:-52,history of:HX:746:883:18|SNIPPET: ructive pulmonary disease.4.  Hypertension.5.  Atrial fibrillation.  The patient has failed severaldirect cardioversions.6.  Alcohol abuse.7.  History of cardiac catheterization in [**2815-8-5**]with an ejection fraction of 69% and clean coronaries.8.  Kidney sto\n",
      "['NEGATIVE', 'FAM'] S51-680-ALCOHOL-ABUSE|NEGEX_PT_FAM_COLON_#ALCOHOL-ABUSE#_PT_NEGEX|NEGEX_PT_FAM_COLON_#ALCOHOL-ABUSE#_PT_NEGEX|etoh abuse|680|27759|\"Nursing/Other\"|3210-08-22 15:09:00 EST|XXXX|ALCOHOL-ABUSE|1286|849|UK|NULL|ro:NEGEX:292:795:-54,pt:PT:8:835:-14,family:FAM:163:838:-11,colon:COLON:1:847:-2,pt:PT:8:861:12,not:NEGEX:324:864:15|SNIPPET: equiring no coverageplan- trans out of unit if bed availableMonitor neuro status including s+sx of dt'scounsel pt/family re: ETOH abuse- pt not receptive at this time\n",
      "['NEGATIVE', 'HX'] S11-117-ALCOHOL-ABUSE|PT_HX_PUNCT_#ALCOHOL-ABUSE#_DOT_PUNCT|PT_HX_PUNCT_#ALCOHOL-ABUSE#_DOT_PUNCT|etoh abuse|117|4314|\"RADIOLOGY_REPORT\"|3131-12-03 00:00:00 EST|XXXX|ALCOHOL-ABUSE|1286|81|UK|NULL|pt:PT:8:21:-60,hx:HX:744:69:-12,comma:PUNCT:6:79:-2,period:DOT:2:100:19,comma:PUNCT:6:134:53|SNIPPET: MICU A NSG ADMIT NOTEPT IS A 49 YO WOMAN WITH ESLD SEC TO HEP C WITH HX OF IDDM, ETOH ABUSE AND IVDA.  TRANS TO MICU WITH WORSENING MS, RENAL FUNCTION HYPOTENSION AND NEED FOR THORACENTESIS.ALLERGIES--CYCLOBENZAPRINE\n",
      "['POSITIVE', 'ALCOHOL-ABUSE'] S3-357-ALCOHOL-ABUSE|COLON_#ALCOHOL-ABUSE#_PUNCT_PUNCT_PUNCT_PUNCT_PUNCT|COLON_#ALCOHOL-ABUSE#_PUNCT_PUNCT_PUNCT_PUNCT_PUNCT|alcoholic|357|13170|\"RADIOLOGY_REPORT\"|2667-01-21 00:00:00 EST|XXXX|ALCOHOL-ABUSE|1292|1116|UK|NULL|colon:COLON:1:1110:-6,comma:PUNCT:6:1141:25,comma:PUNCT:6:1152:36,comma:PUNCT:6:1186:70,comma:PUNCT:6:1197:81,comma:PUNCT:6:1238:122|SNIPPET: mucosal thickening.______________________________________________________________________________FINAL REPORTINDICATION:  Nonalcoholic steatohepatitis, cirrhosis, now with partial complexseizures, confusion, flattening of the right nasolabial fold, and rightp\n",
      "['NEGATIVE', 'FAM'] S47-654-ALCOHOL-ABUSE|FAM_HX_COLON_FAM_PUNCT_#ALCOHOL-ABUSE#_DOT_DOT_PUNCT|FAM_HX_COLON_FAM_PUNCT_#ALCOHOL-ABUSE#_DOT_DOT_PUNCT|alcoholic|654|26951|\"RADIOLOGY_REPORT\"|3202-07-07 00:00:00 EST|XXXX|ALCOHOL-ABUSE|1292|1548|UK|NULL|family:FAM:163:1449:-99,history:HX:747:1456:-92,colon:COLON:1:1478:-70,parents:FAM:45:1486:-62,comma:PUNCT:6:1543:-5,period:DOT:2:1557:9,period:DOT:2:1572:24,comma:PUNCT:6:1665:117|SNIPPET: REQUIRINGHOSPITALIZATION.FAMILY HISTORY/SOCIAL HISTORY:  Both parents died when shewas very young.  She is an ex-smoker, ex-alcoholic.  Does notwork.  She is on disability.HOSPITAL COURSE BY SYSTEM:1.  Cardiac:  She had three issues - rhythm, pump andcoronar\n",
      "['NEGATIVE', 'NEGEX'] S63-492-ALCOHOL-ABUSE|DOT_DOT_HX_PUNCT_PUNCT_NEGEX_#ALCOHOL-ABUSE#_DOT_PUNCT_HYP_DOT_PT|DOT_DOT_HX_PUNCT_PUNCT_NEGEX_#ALCOHOL-ABUSE#_DOT_PUNCT_HYP_DOT_PT|excessive alcohol|492|18886|\"RADIOLOGY_REPORT\"|3041-03-03 00:00:00 EST|XXXX|ALCOHOL-ABUSE|1282|5392|UK|NULL|period:DOT:2:5294:-98,period:DOT:2:5318:-74,history of:HX:746:5330:-62,comma:PUNCT:6:5349:-43,comma:PUNCT:6:5374:-18,denies:NEGEX:438:5376:-16,period:DOT:2:5413:21,comma:PUNCT:6:5432:40,risk:HYP:566:5454:62,period:DOT:2:5471:79,pt:PT:8:5491:99|SNIPPET: hich was hemoccult positive. HisHCT remained stable. He has no history of GI bleed, does havesome mild GERD, denies NSAID or excessive alcohol use. He was onsteroids, which increases his risk of gastritis.  The patientwas kept on a twice daily PPI while in house and\n",
      "['POSITIVE', 'ALCOHOL-ABUSE'] S59-481-ALCOHOL-ABUSE|HX_COLON_HX_PUNCT_PUNCT_PUNCT_PUNCT_#ALCOHOL-ABUSE#_PUNCT_PUNCT_HX_ALCOHOL_NEGEX_DOT_PT|HX_COLON_HX_PUNCT_PUNCT_PUNCT_PUNCT_#ALCOHOL-ABUSE#_PUNCT_PUNCT_HX_ALCOHOL_NEGEX_DOT_PT|alcoholic|481|18694|\"RADIOLOGY_REPORT\"|3441-10-17 00:00:00 EST|XXXX|ALCOHOL-ABUSE|1292|278|UK|NULL|history of:HX:746:155:-123,colon:COLON:1:181:-97,history of:HX:746:216:-62,comma:PUNCT:6:237:-41,comma:PUNCT:6:248:-30,comma:PUNCT:6:262:-16,comma:PUNCT:6:276:-2,comma:PUNCT:6:296:18,comma:PUNCT:6:313:35,ho:HX:745:316:38,alcohol:ALCOHOL:1275:327:49,free:NEGEX:409:335:57,period:DOT:2:377:99,patient:PT:9:383:105|SNIPPET: h.HISTORY OF PRESENT ILLNESS:  This is a 41-year-old man with ahistory of alcoholism, cirrhosis, with ascites, smallvarices, alcoholic seizures, and hepatitis C, who has beenalcohol free for several months prior to admission.  Thepatient then noted a cough se\n",
      "['NEGATIVE', 'HX'] S61-481-ALCOHOL-ABUSE|HX_ALCOHOL_ABUSE_HX_HX_#ALCOHOL-ABUSE#_COLON|HX_ALCOHOL_ABUSE_HX_HX_#ALCOHOL-ABUSE#_COLON|alcoholic|481|18694|\"RADIOLOGY_REPORT\"|3441-10-17 00:00:00 EST|XXXX|ALCOHOL-ABUSE|1292|1631|UK|NULL|history of:HX:746:1517:-114,alcohol:ALCOHOL:1275:1528:-103,abuse:ABUSE:1277:1536:-95,history of:HX:746:1545:-86,history of:HX:746:1620:-11,colon:COLON:1:1667:36|SNIPPET: Anemia.4. History of alcohol abuse.5. History of small varices on esophagogastroduodenoscopy in[**3441-8-8**].6. History of alcoholic seizure disorder.ALLERGIES:  No known drug allergies.MEDICATIONS ON ADMISSION TO [**Hospital1 **]:1. Ceftriaxone 1 gram q da\n",
      "['NEGATIVE', 'HX'] S60-481-ALCOHOL-ABUSE|DOT_HX_HX_#ALCOHOL-ABUSE#_HX_HX|DOT_HX_HX_#ALCOHOL-ABUSE#_HX_HX|alcohol abuse|481|18694|\"RADIOLOGY_REPORT\"|3441-10-17 00:00:00 EST|XXXX|ALCOHOL-ABUSE|1276|1528|UK|NULL|period:DOT:2:1418:-110,history of:HX:746:1445:-83,history of:HX:746:1517:-11,history of:HX:746:1545:17,history of:HX:746:1620:92|SNIPPET: DICAL HISTORY:1. Chronic hepatitis C with history of hepaticencephalopathy.2. Cirrhosis with ascites.3. Anemia.4. History of alcohol abuse.5. History of small varices on esophagogastroduodenoscopy in[**3441-8-8**].6. History of alcoholic seizure disorder.ALLERGIE\n",
      "['NEGATIVE', 'NEGEX'] S62-481-ALCOHOL-ABUSE|COLON_PUNCT_HX_#ALCOHOL-ABUSE#_NEGEX|COLON_PUNCT_HX_#ALCOHOL-ABUSE#_NEGEX|alcohol abuse|481|18697|\"Nursing/Other\"|3441-10-18 04:32:00 EST|XXXX|ALCOHOL-ABUSE|1276|610|UK|NULL|colon:COLON:1:588:-22,comma:PUNCT:6:597:-13,history of:HX:746:599:-11,there is no:NEGEX:243:648:38|SNIPPET: is.______________________________________________________________________________FINAL REPORTINDICATION:  Sepsis, history of alcohol abuse.The liver is enlarged.  There is no intrahepatic biliary ductal dilatation.The common duct measures 3 mm.  Flow within the m\n",
      "['POSITIVE', 'ALCOHOL-ABUSE'] S6-52-ALCOHOL-ABUSE|DOT_HX_PUNCT_PT|DOT_HX_PUNCT_PT|alcoholic|52|1066|\"RADIOLOGY_REPORT\"|3036-03-14 00:00:00 EST|XXXX|ALCOHOL-ABUSE|1292|1467|UK|NULL|period:DOT:2:1357:-110,past:HX:743:1375:-92,;:PUNCT:5:1410:-57,patient:PT:9:1412:-55|SNIPPET: ne mildabd pain. No melena/brbpr.Past Medical History:HepC cirrhosis; patient has never been treated withinterferon/ribavirinAlcoholic hepatitis in [**3035-7-2**] after a four month drinkingbingeanxietys/p appendectomySocial History:SH - Lives in RI with his\n",
      "['POSITIVE', 'ALCOHOL-ABUSE'] S7-52-ALCOHOL-ABUSE|DRUG-ABUSE_PUNCT_ALCOHOL_PUNCT_#ALCOHOL-ABUSE#_PUNCT_DOT|DRUG-ABUSE_PUNCT_ALCOHOL_PUNCT_#ALCOHOL-ABUSE#_PUNCT_DOT|binge drinking|52|1066|\"RADIOLOGY_REPORT\"|3036-03-14 00:00:00 EST|XXXX|ALCOHOL-ABUSE|1287|1902|UK|NULL|heroin:DRUG-ABUSE:1298:1792:-110,;:PUNCT:5:1808:-94,alcohol:ALCOHOL:1275:1859:-43,comma:PUNCT:6:1886:-16,;:PUNCT:5:1995:93,period:DOT:2:2027:125|SNIPPET: adone to treat heroin addiction; stopped in[**3035-2-1**] He endorses only social alcohol use until March2006, when he began binge drinking up to a fifth of vodka a dayto cope with unemployment and methadone withdrawal; no alcoholsince [**3035-7-2**]. Smokes 1 ppd\n",
      "['POSITIVE', 'ALCOHOL-ABUSE'] S8-52-ALCOHOL-ABUSE|COLON_#ALCOHOL-ABUSE#_PUNCT_PUNCT_ABDOMINAL_DOT_ABDOMINAL|COLON_#ALCOHOL-ABUSE#_PUNCT_PUNCT_ABDOMINAL_DOT_ABDOMINAL|alcoholic|52|1072|\"Nursing/Other\"|3036-03-15 05:33:00 EST|XXXX|ALCOHOL-ABUSE|1292|669|UK|NULL|colon:COLON:1:666:-3,comma:PUNCT:6:688:19,comma:PUNCT:6:695:26,abdominal:ABDOMINAL:1230:706:37,period:DOT:2:720:51,abdominal:ABDOMINAL:1230:791:122|SNIPPET: pplers to assess flow______________________________________________________________________________FINAL REPORTINDICATIONS:  Alcoholic cirrhosis, fever, diffused abdominal pain.  Pleaseassess liver including Doppler and mark spot for paracentesis.ABDOMINAL UL\n",
      "['POSITIVE', 'ALCOHOL-ABUSE'] S9-52-ALCOHOL-ABUSE|COLON_#ALCOHOL-ABUSE#_CREATININE_DOT_SCREEN|COLON_#ALCOHOL-ABUSE#_CREATININE_DOT_SCREEN|alcoholic|52|1079|\"RADIOLOGY_REPORT\"|3036-03-22 00:00:00 EST|XXXX|ALCOHOL-ABUSE|1292|656|UK|NULL|colon:COLON:1:625:-31,creatinine:CREATININE:1012:703:47,period:DOT:2:713:57,evaluate for:SCREEN:726:716:60|SNIPPET: ___________________________________________________________________________FINAL REPORTHISTORY:  30-year-old male with known alcoholic cirrhosis and hepatitis C withrising creatinine.  Evaluate for hydronephrosis.Comparison is made to prior CT examination dat\n",
      "['NEGATIVE', 'NEGEX'] S46-622-ALCOHOL-ABUSE|DOT_NEGEX_DOT_#ALCOHOL-ABUSE#_NEGEX_NEGEX_ABDOMINAL|DOT_NEGEX_DOT_#ALCOHOL-ABUSE#_NEGEX_NEGEX_ABDOMINAL|drunk|622|25191|\"Nursing/Other\"|3453-10-28 05:00:00 EST|XXXX|ALCOHOL-ABUSE|1291|482|UK|NULL|period:DOT:2:363:-119,denies any:NEGEX:437:370:-112,period:DOT:2:407:-75,not:NEGEX:324:538:56,denies any:NEGEX:437:569:87,bowel:ABDOMINAL:1229:580:98|SNIPPET: omfort.  She denies any neck or radicular arm pain.  Shedoes complain of balance problems and states she \"\"sways as ifshe is drunk.\"\"  She does drop objects with both hands.  Shecannot write or sign checks.  She denies any bowel or bladderdisfunction othe\n",
      "['NEGATIVE', 'HX'] S37-172-ALCOHOL-ABUSE|HX_DOT_DRUG-ABUSE_#ALCOHOL-ABUSE#_HX_COLON_NEGEX_COLON_COLON_NEGEX_COLON|HX_DOT_DRUG-ABUSE_#ALCOHOL-ABUSE#_HX_COLON_NEGEX_COLON_COLON_NEGEX_COLON|alcoholism|172|7582|\"RADIOLOGY_REPORT\"|3088-08-18 00:00:00 EST|XXXX|ALCOHOL-ABUSE|1284|697|UK|NULL|history of:HX:746:623:-74,period:DOT:2:665:-32,ivdu:DRUG-ABUSE:1297:680:-17,past:HX:743:708:11,colon:COLON:1:729:32,none:NEGEX:327:732:35,colon:COLON:1:746:49,colon:COLON:1:784:87,none:NEGEX:327:787:90,colon:COLON:1:812:115|SNIPPET: tatus postinterferon and ribavirin treatment and a history of a priorstab wound in [**3082**].  Status post IVDU and current alcoholism.PAST SURGICAL HISTORY:  None.ALLERGIES:  No known drug allergies.MEDICATIONS:  None.PHYSICAL EXAMINATION:  Pulse 97.  Heart\n",
      "['POSITIVE', 'ALCOHOL-ABUSE'] S38-172-ALCOHOL-ABUSE|NONE|NONE|alcohol abuse|172|7582|\"RADIOLOGY_REPORT\"|3088-08-18 00:00:00 EST|XXXX|ALCOHOL-ABUSE|1276|2522|UK|NULL|NONE|SNIPPET: t isdischarged home.FINAL DIAGNOSES:1.  Status post stab wounds to the back.2.  Right sided pneumothorax.3.  Hepatitis C.4.  Alcohol abuse.DISCHARGE MEDICATIONS:1.  Methadone 5 mg po b.i.d. for five days only withIbuprofen 400 mg t.i.d.2.  Cefalexin 500 mg b.i.d.\n",
      "['POSITIVE', 'ALCOHOL-ABUSE'] S41-252-ALCOHOL-ABUSE|COLON_PT_PUNCT_#ALCOHOL-ABUSE#_PUNCT_PUNCT_DOT_PUNCT_DOT|COLON_PT_PUNCT_#ALCOHOL-ABUSE#_PUNCT_PUNCT_DOT_PUNCT_DOT|alcoholic|252|9726|\"RADIOLOGY_REPORT\"|2784-02-28 00:00:00 EST|XXXX|ALCOHOL-ABUSE|1292|12506|UK|NULL|colon:COLON:1:12395:-111,patient:PT:9:12489:-17,comma:PUNCT:6:12505:-1,comma:PUNCT:6:12530:24,comma:PUNCT:6:12551:45,period:DOT:2:12577:71,comma:PUNCT:6:12586:80,period:DOT:2:12622:116|SNIPPET: p.2. Confusion: He was seen by neurology while in the MICU whofelt that the differential diagnosis for this patient included,alcoholic encephalopathy, anoxic brain injury, or hepaticencephalopathy. His EEG, Head MRI and Head CT were negative. Hismental status\n",
      "['NEGATIVE', 'NEGEX'] S39-252-ALCOHOL-ABUSE|HX_PUNCT_PUNCT_ALCOHOL_HX_#ALCOHOL-ABUSE#_NEGEX|HX_PUNCT_PUNCT_ALCOHOL_HX_#ALCOHOL-ABUSE#_NEGEX|alcoholic|252|9726|\"RADIOLOGY_REPORT\"|2784-02-28 00:00:00 EST|XXXX|ALCOHOL-ABUSE|1292|2270|UK|NULL|past:HX:743:2165:-105,comma:PUNCT:6:2196:-74,comma:PUNCT:6:2211:-59,etoh:ALCOHOL:1280:2213:-57,hx:HX:744:2257:-13,with no:NEGEX:228:2317:47|SNIPPET: adequately takePO's.Past Medical History:Alcoholism, Kidney Stones, ETOH Cirrhosis.Social History:1 ppd smoking hx and known alcoholic- unclear when last drink,lives alone with no known familyFamily History:NCPhysical Exam:VS: 99.5   110/78   75   20   104Gen\n",
      "['POSITIVE', 'ALCOHOL-ABUSE'] S42-252-ALCOHOL-ABUSE|NONE|NONE|alcoholic|252|9726|\"RADIOLOGY_REPORT\"|2784-02-28 00:00:00 EST|XXXX|ALCOHOL-ABUSE|1292|14922|UK|NULL|NONE|SNIPPET: CareFacility:[**Hospital6 2058**] - [**Location (un) 2059**]Discharge Diagnosis:Primary Diagnosis:1) Variceal Hemorrhage.2) Alcoholic Cirrhosis.Secondary Diagnosis:3) Vancomycin-Resistant Enterococcal Urinary Tract Infection.4) Common Femoral Vein Thrombosis\n",
      "['NEGATIVE', 'HX'] S40-252-ALCOHOL-ABUSE|DOT_HYP_PUNCT_PUNCT_HX_#ALCOHOL-ABUSE#_DOT_PUNCT_PUNCT|DOT_HYP_PUNCT_PUNCT_HX_#ALCOHOL-ABUSE#_DOT_PUNCT_PUNCT_DOT|heavy etoh use|252|9726|\"RADIOLOGY_REPORT\"|2784-02-28 00:00:00 EST|XXXX|ALCOHOL-ABUSE|1283|11811|UK|NULL|period:DOT:2:11706:-105,likely:HYP:623:11736:-75,comma:PUNCT:6:11760:-51,comma:PUNCT:6:11795:-16,history of:HX:746:11801:-10,period:DOT:2:11825:14,comma:PUNCT:6:11889:78,comma:PUNCT:6:11909:98,period:DOT:2:11947:136|SNIPPET: Hospital1 25**] MICU. The etiology was considered likely varicealin nature, given the  briskness of his bleed, and history ofheavy ETOH use. He had had multiple EGD's at [**Hospital1 25**] showingvarices, portal gastropathy, but required no EGD-interventions(ie. c\n",
      "['NEGATIVE', 'HX'] S43-252-ALCOHOL-ABUSE|COLON_HX_#ALCOHOL-ABUSE#_PUNCT_HYP_DOT_COLON_NEGEX|COLON_HX_#ALCOHOL-ABUSE#_PUNCT_HYP_DOT_COLON_NEGEX|alcoholic|252|9736|\"Nursing/Other\"|2784-02-28 05:10:00 EST|XXXX|ALCOHOL-ABUSE|1292|633|UK|NULL|colon:COLON:1:619:-14,history of:HX:746:622:-11,comma:PUNCT:6:652:19,possible:HYP:596:660:27,period:DOT:2:682:49,colon:COLON:1:724:91,none:NEGEX:327:727:94|SNIPPET: r.______________________________________________________________________________FINAL REPORTCLINICAL INDICATION:  History of alcoholic cirrhosis, now a possible TIPScandidate.  Evaluate portal venous flow.COMPARISONS:  None.LIVER ULTRASOUND WITH COLOR DOPPLER\n",
      "['NEGATIVE', 'HX'] S44-252-ALCOHOL-ABUSE|DOT_PT_HX_#ALCOHOL-ABUSE#_DOT_PT|DOT_PT_HX_#ALCOHOL-ABUSE#_DOT_PT|alcoholism|252|9750|\"Nursing/Other\"|2784-03-02 16:39:00 EST|XXXX|ALCOHOL-ABUSE|1284|201|UK|NULL|period:DOT:2:124:-77,pt's:PT:7:127:-74,hx:HX:744:195:-6,period:DOT:2:275:74,pt:PT:8:278:77|SNIPPET: MONITOR AND VENTILATOR ARE FUNCTIONING PROPERLY.  PT'S ENVIRONMENT SECURED FOR SAFETY.THIS IS A 55 Y/O MALE PT WITH A HX OF ALCOHOLISM THAT CALLED EMS ON [**2784-2-28**] FOR WEAKNESS AND HEMATEMESIS.  PT PRESENTED TO [**Hospital3 997**] WITH EPISODES OF GELAT\n",
      "['POSITIVE', 'ALCOHOL-ABUSE'] S45-252-ALCOHOL-ABUSE|#ALCOHOL-ABUSE#_DOT_HYP|#ALCOHOL-ABUSE#_DOT_HYP|alcoholic|252|9809|\"RADIOLOGY_REPORT\"|2784-07-16 00:00:00 EST|XXXX|ALCOHOL-ABUSE|1292|420|UK|NULL|period:DOT:2:440:20,may be:HYP:621:484:64|SNIPPET: liq cont on octreotide 50mcg abd snt bs+ no s+s of bldingaccess 18g and 20g IVID cont on levoquin afebriles/p UGIB hct stablealcoholic cirohosisp. monitor hct keep hct > 30,cont on cl liq, may be transferred to floor when a bed becomes available\n"
     ]
    }
   ],
   "source": [
    "!python2 /share/pi/stamang/cie/clever-demo/labeler/weakLabelALCOHOL-ABUSE.py"
   ]
  },
  {
   "cell_type": "markdown",
   "metadata": {},
   "source": [
    "cleanup:"
   ]
  },
  {
   "cell_type": "code",
   "execution_count": 1,
   "metadata": {},
   "outputs": [],
   "source": [
    "!rm -rf /share/pi/stamang/cie/clever-demo/output/ants/ALCOHOL-ABUSE"
   ]
  },
  {
   "cell_type": "code",
   "execution_count": 2,
   "metadata": {},
   "outputs": [],
   "source": [
    "!rm -rf /share/pi/stamang/cie/clever-demo/output/ptseq/*"
   ]
  },
  {
   "cell_type": "code",
   "execution_count": 3,
   "metadata": {},
   "outputs": [],
   "source": [
    "!rm -rf /share/pi/stamang/cie/clever-demo/output/label/ALCOHOL-ABUSE/*"
   ]
  },
  {
   "cell_type": "code",
   "execution_count": null,
   "metadata": {},
   "outputs": [],
   "source": []
  }
 ],
 "metadata": {
  "kernelspec": {
   "display_name": "Python 3",
   "language": "python",
   "name": "python3"
  },
  "language_info": {
   "codemirror_mode": {
    "name": "ipython",
    "version": 3
   },
   "file_extension": ".py",
   "mimetype": "text/x-python",
   "name": "python",
   "nbconvert_exporter": "python",
   "pygments_lexer": "ipython3",
   "version": "3.6.6"
  }
 },
 "nbformat": 4,
 "nbformat_minor": 2
}
